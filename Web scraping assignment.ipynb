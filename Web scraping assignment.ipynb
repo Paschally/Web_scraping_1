{
 "cells": [
  {
   "cell_type": "code",
   "execution_count": 1,
   "id": "4d4e30ce",
   "metadata": {},
   "outputs": [],
   "source": [
    "# Import the necessary libraries\n",
    "\n",
    "import pandas as pd\n",
    "from bs4 import BeautifulSoup\n",
    "import re\n",
    "import requests"
   ]
  },
  {
   "cell_type": "markdown",
   "id": "83688c2a",
   "metadata": {},
   "source": [
    "### Web scraping"
   ]
  },
  {
   "cell_type": "code",
   "execution_count": 2,
   "id": "3db1dbc9",
   "metadata": {},
   "outputs": [],
   "source": [
    "# Create an empty list to store listings\n",
    "\n",
    "listings = []\n",
    "\n",
    "# Scrap data for 1000 rows\n",
    "for i in range(1, 49):\n",
    "    url = f\"https://nigeriapropertycentre.com/for-rent?page={i}\"\n",
    "    header_code = {'User-Agent': 'Mozilla/5.0 (Windows NT 10.0; Win64; x64) AppleWebKit/537.36 (KHTML, like Gecko) Chrome/116.0.0.0 Safari/537.36'}\n",
    "    response = requests.get(url, headers=header_code)\n",
    "\n",
    "    soup = BeautifulSoup(response.content, 'html.parser')\n",
    "    info = soup.find_all('div', class_='wp-block-body')\n",
    "\n",
    "    for data in info:\n",
    "        description = data.find('h4', class_='content-title').get_text()\n",
    "        location = data.find('address', class_='voffset-bottom-10').get_text()\n",
    "        rent_value = data.find('span', class_='pull-sm-left').get_text()\n",
    "        prices = data.find_all('span', class_='price')\n",
    "        price = prices[1].get_text()\n",
    "        \n",
    "        # Append the data to the listings list as a dictionary\n",
    "        listings.append([description, location, rent_value, price])"
   ]
  },
  {
   "cell_type": "code",
   "execution_count": 3,
   "id": "7d964c2b",
   "metadata": {},
   "outputs": [],
   "source": [
    "# Assign the scraped data to a dataframe\n",
    "\n",
    "property_data = pd.DataFrame(listings, columns = ['Description', 'Location', 'Rent_value', 'Price'])"
   ]
  },
  {
   "cell_type": "code",
   "execution_count": 4,
   "id": "860f49b0",
   "metadata": {},
   "outputs": [
    {
     "data": {
      "text/html": [
       "<div>\n",
       "<style scoped>\n",
       "    .dataframe tbody tr th:only-of-type {\n",
       "        vertical-align: middle;\n",
       "    }\n",
       "\n",
       "    .dataframe tbody tr th {\n",
       "        vertical-align: top;\n",
       "    }\n",
       "\n",
       "    .dataframe thead th {\n",
       "        text-align: right;\n",
       "    }\n",
       "</style>\n",
       "<table border=\"1\" class=\"dataframe\">\n",
       "  <thead>\n",
       "    <tr style=\"text-align: right;\">\n",
       "      <th></th>\n",
       "      <th>Description</th>\n",
       "      <th>Location</th>\n",
       "      <th>Rent_value</th>\n",
       "      <th>Price</th>\n",
       "    </tr>\n",
       "  </thead>\n",
       "  <tbody>\n",
       "    <tr>\n",
       "      <th>279</th>\n",
       "      <td>3 bedroom flat / apartment for rent</td>\n",
       "      <td>Banana Island, Ikoyi, Lagos</td>\n",
       "      <td>\\n₦20,000,000 per annum</td>\n",
       "      <td>20,000,000</td>\n",
       "    </tr>\n",
       "  </tbody>\n",
       "</table>\n",
       "</div>"
      ],
      "text/plain": [
       "                             Description                       Location  \\\n",
       "279  3 bedroom flat / apartment for rent    Banana Island, Ikoyi, Lagos   \n",
       "\n",
       "                   Rent_value       Price  \n",
       "279  \\n₦20,000,000 per annum   20,000,000  "
      ]
     },
     "execution_count": 4,
     "metadata": {},
     "output_type": "execute_result"
    }
   ],
   "source": [
    "# Display a sample of the data\n",
    "\n",
    "property_data.sample()"
   ]
  },
  {
   "cell_type": "code",
   "execution_count": 5,
   "id": "43b420e1",
   "metadata": {},
   "outputs": [
    {
     "data": {
      "text/html": [
       "<div>\n",
       "<style scoped>\n",
       "    .dataframe tbody tr th:only-of-type {\n",
       "        vertical-align: middle;\n",
       "    }\n",
       "\n",
       "    .dataframe tbody tr th {\n",
       "        vertical-align: top;\n",
       "    }\n",
       "\n",
       "    .dataframe thead th {\n",
       "        text-align: right;\n",
       "    }\n",
       "</style>\n",
       "<table border=\"1\" class=\"dataframe\">\n",
       "  <thead>\n",
       "    <tr style=\"text-align: right;\">\n",
       "      <th></th>\n",
       "      <th>Description</th>\n",
       "      <th>Location</th>\n",
       "      <th>Rent_value</th>\n",
       "      <th>Price</th>\n",
       "      <th>City</th>\n",
       "      <th>State</th>\n",
       "    </tr>\n",
       "  </thead>\n",
       "  <tbody>\n",
       "    <tr>\n",
       "      <th>0</th>\n",
       "      <td>Conference / meeting / training room for rent</td>\n",
       "      <td>Kumasi Crescent, Wuse 2, Abuja</td>\n",
       "      <td>\\n₦80,000 per day</td>\n",
       "      <td>80,000</td>\n",
       "      <td>Wuse 2</td>\n",
       "      <td>Abuja</td>\n",
       "    </tr>\n",
       "    <tr>\n",
       "      <th>1</th>\n",
       "      <td>2 bedroom flat / apartment for rent</td>\n",
       "      <td>Ikate, Ikate Elegushi, Lekki, Lagos</td>\n",
       "      <td>\\n₦2,300,000 per annum</td>\n",
       "      <td>2,300,000</td>\n",
       "      <td>Lekki</td>\n",
       "      <td>Lagos</td>\n",
       "    </tr>\n",
       "    <tr>\n",
       "      <th>2</th>\n",
       "      <td>4 bedroom semi-detached duplex for rent</td>\n",
       "      <td>Ikota, Lekki, Lagos</td>\n",
       "      <td>\\n₦4,000,000 per annum</td>\n",
       "      <td>4,000,000</td>\n",
       "      <td>Lekki</td>\n",
       "      <td>Lagos</td>\n",
       "    </tr>\n",
       "    <tr>\n",
       "      <th>3</th>\n",
       "      <td>5 bedroom detached duplex for rent</td>\n",
       "      <td>VGC, Lekki, Lagos</td>\n",
       "      <td>\\n₦7,000,000 per annum</td>\n",
       "      <td>7,000,000</td>\n",
       "      <td>Lekki</td>\n",
       "      <td>Lagos</td>\n",
       "    </tr>\n",
       "    <tr>\n",
       "      <th>4</th>\n",
       "      <td>Office space for rent</td>\n",
       "      <td>Ologolo, Lekki, Lagos</td>\n",
       "      <td>\\n₦1,500,000 per annum</td>\n",
       "      <td>1,500,000</td>\n",
       "      <td>Lekki</td>\n",
       "      <td>Lagos</td>\n",
       "    </tr>\n",
       "  </tbody>\n",
       "</table>\n",
       "</div>"
      ],
      "text/plain": [
       "                                     Description  \\\n",
       "0  Conference / meeting / training room for rent   \n",
       "1            2 bedroom flat / apartment for rent   \n",
       "2        4 bedroom semi-detached duplex for rent   \n",
       "3             5 bedroom detached duplex for rent   \n",
       "4                          Office space for rent   \n",
       "\n",
       "                                Location               Rent_value      Price  \\\n",
       "0         Kumasi Crescent, Wuse 2, Abuja       \\n₦80,000 per day      80,000   \n",
       "1    Ikate, Ikate Elegushi, Lekki, Lagos  \\n₦2,300,000 per annum   2,300,000   \n",
       "2                    Ikota, Lekki, Lagos  \\n₦4,000,000 per annum   4,000,000   \n",
       "3                      VGC, Lekki, Lagos  \\n₦7,000,000 per annum   7,000,000   \n",
       "4                  Ologolo, Lekki, Lagos  \\n₦1,500,000 per annum   1,500,000   \n",
       "\n",
       "     City  State  \n",
       "0  Wuse 2  Abuja  \n",
       "1   Lekki  Lagos  \n",
       "2   Lekki  Lagos  \n",
       "3   Lekki  Lagos  \n",
       "4   Lekki  Lagos  "
      ]
     },
     "execution_count": 5,
     "metadata": {},
     "output_type": "execute_result"
    }
   ],
   "source": [
    "# Extract City and State from the Location Column\n",
    "\n",
    "property_data['City'] = property_data['Location'].str.split(',').str[-2].str.strip()\n",
    "property_data['State'] = property_data['Location'].str.split(',').str[-1].str.strip()\n",
    "property_data.head(5)"
   ]
  },
  {
   "cell_type": "code",
   "execution_count": 6,
   "id": "bb16a11c",
   "metadata": {},
   "outputs": [
    {
     "name": "stdout",
     "output_type": "stream",
     "text": [
      "This property data has 1008 rows and 6 columns\n"
     ]
    }
   ],
   "source": [
    "# Check the number of rows and columns\n",
    "\n",
    "row = property_data.shape[0]\n",
    "column = property_data.shape[1]\n",
    "\n",
    "print(f'This property data has {row} rows and {column} columns')"
   ]
  },
  {
   "cell_type": "code",
   "execution_count": 7,
   "id": "d6f8fbb2",
   "metadata": {},
   "outputs": [
    {
     "data": {
      "text/plain": [
       "Description    0\n",
       "Location       0\n",
       "Rent_value     0\n",
       "Price          0\n",
       "City           0\n",
       "State          0\n",
       "dtype: int64"
      ]
     },
     "execution_count": 7,
     "metadata": {},
     "output_type": "execute_result"
    }
   ],
   "source": [
    "# Check for null values in the dataset\n",
    "\n",
    "property_data.isna().sum()"
   ]
  },
  {
   "cell_type": "code",
   "execution_count": 8,
   "id": "c244ce8e",
   "metadata": {},
   "outputs": [
    {
     "data": {
      "text/plain": [
       "Description    object\n",
       "Location       object\n",
       "Rent_value     object\n",
       "Price          object\n",
       "City           object\n",
       "State          object\n",
       "dtype: object"
      ]
     },
     "execution_count": 8,
     "metadata": {},
     "output_type": "execute_result"
    }
   ],
   "source": [
    "property_data.dtypes"
   ]
  },
  {
   "cell_type": "code",
   "execution_count": 9,
   "id": "92c56e7f",
   "metadata": {},
   "outputs": [],
   "source": [
    "# Change the Price column to a float datatype to allow for math operatons\n",
    "\n",
    "property_data['Price'] = property_data['Price'].str.replace(',', '').astype(float)"
   ]
  },
  {
   "cell_type": "code",
   "execution_count": 10,
   "id": "a8141cb9",
   "metadata": {},
   "outputs": [
    {
     "data": {
      "text/html": [
       "<div>\n",
       "<style scoped>\n",
       "    .dataframe tbody tr th:only-of-type {\n",
       "        vertical-align: middle;\n",
       "    }\n",
       "\n",
       "    .dataframe tbody tr th {\n",
       "        vertical-align: top;\n",
       "    }\n",
       "\n",
       "    .dataframe thead th {\n",
       "        text-align: right;\n",
       "    }\n",
       "</style>\n",
       "<table border=\"1\" class=\"dataframe\">\n",
       "  <thead>\n",
       "    <tr style=\"text-align: right;\">\n",
       "      <th></th>\n",
       "      <th>Price</th>\n",
       "    </tr>\n",
       "  </thead>\n",
       "  <tbody>\n",
       "    <tr>\n",
       "      <th>count</th>\n",
       "      <td>1008</td>\n",
       "    </tr>\n",
       "    <tr>\n",
       "      <th>mean</th>\n",
       "      <td>11187421</td>\n",
       "    </tr>\n",
       "    <tr>\n",
       "      <th>std</th>\n",
       "      <td>84400619</td>\n",
       "    </tr>\n",
       "    <tr>\n",
       "      <th>min</th>\n",
       "      <td>250</td>\n",
       "    </tr>\n",
       "    <tr>\n",
       "      <th>25%</th>\n",
       "      <td>2000000</td>\n",
       "    </tr>\n",
       "    <tr>\n",
       "      <th>50%</th>\n",
       "      <td>4000000</td>\n",
       "    </tr>\n",
       "    <tr>\n",
       "      <th>75%</th>\n",
       "      <td>8000000</td>\n",
       "    </tr>\n",
       "    <tr>\n",
       "      <th>max</th>\n",
       "      <td>2160000000</td>\n",
       "    </tr>\n",
       "  </tbody>\n",
       "</table>\n",
       "</div>"
      ],
      "text/plain": [
       "           Price\n",
       "count       1008\n",
       "mean    11187421\n",
       "std     84400619\n",
       "min          250\n",
       "25%      2000000\n",
       "50%      4000000\n",
       "75%      8000000\n",
       "max   2160000000"
      ]
     },
     "execution_count": 10,
     "metadata": {},
     "output_type": "execute_result"
    }
   ],
   "source": [
    "# Use the 5 point summary to check the dataset\n",
    "\n",
    "pd.options.display.float_format = '{:.0f}'.format      # Set the float format to display without exponential notation\n",
    "property_data.describe()"
   ]
  },
  {
   "cell_type": "markdown",
   "id": "86a55b02",
   "metadata": {},
   "source": [
    "#### Derive Insights from the dataset"
   ]
  },
  {
   "cell_type": "code",
   "execution_count": 11,
   "id": "22474bea",
   "metadata": {},
   "outputs": [
    {
     "name": "stdout",
     "output_type": "stream",
     "text": [
      "The most and least expensive properties cost 2160000000.0 Naira and 250.0 Naira to rent respectively \n"
     ]
    }
   ],
   "source": [
    "max_prop = property_data['Price'].max()\n",
    "min_prop = property_data['Price'].min()\n",
    "\n",
    "print(f'The most and least expensive properties cost {max_prop} Naira and {min_prop} Naira to rent respectively ')"
   ]
  },
  {
   "cell_type": "code",
   "execution_count": 12,
   "id": "5c7739ac",
   "metadata": {},
   "outputs": [
    {
     "name": "stdout",
     "output_type": "stream",
     "text": [
      "Lagos State has the largest number of properties to be rented\n"
     ]
    }
   ],
   "source": [
    "pop_state = property_data['State'].mode()[0]\n",
    "print(f'{pop_state} State has the largest number of properties to be rented')"
   ]
  },
  {
   "cell_type": "code",
   "execution_count": 13,
   "id": "3265ccd8",
   "metadata": {},
   "outputs": [
    {
     "name": "stdout",
     "output_type": "stream",
     "text": [
      "The most expensive property is a 107    Tank farm for rent\n",
      "Name: Description, dtype: object located in 107    Apapa\n",
      "Name: City, dtype: object area of 107    Lagos\n",
      "Name: State, dtype: object State\n",
      " and it costs 107   2160000000\n",
      "Name: Price, dtype: float64 Naira to rent\n"
     ]
    }
   ],
   "source": [
    "highest_prop = property_data[property_data['Price'] == property_data.Price.max()]\n",
    "\n",
    "print(f'The most expensive property is a {highest_prop.Description} located in {highest_prop.City} area of {highest_prop.State} State\\n and it costs {highest_prop.Price} Naira to rent')"
   ]
  },
  {
   "cell_type": "code",
   "execution_count": 14,
   "id": "4d8e263d",
   "metadata": {},
   "outputs": [
    {
     "data": {
      "text/html": [
       "<div>\n",
       "<style scoped>\n",
       "    .dataframe tbody tr th:only-of-type {\n",
       "        vertical-align: middle;\n",
       "    }\n",
       "\n",
       "    .dataframe tbody tr th {\n",
       "        vertical-align: top;\n",
       "    }\n",
       "\n",
       "    .dataframe thead th {\n",
       "        text-align: right;\n",
       "    }\n",
       "</style>\n",
       "<table border=\"1\" class=\"dataframe\">\n",
       "  <thead>\n",
       "    <tr style=\"text-align: right;\">\n",
       "      <th></th>\n",
       "      <th>State</th>\n",
       "      <th>Average_rent</th>\n",
       "    </tr>\n",
       "  </thead>\n",
       "  <tbody>\n",
       "    <tr>\n",
       "      <th>0</th>\n",
       "      <td>Abuja</td>\n",
       "      <td>7203794</td>\n",
       "    </tr>\n",
       "    <tr>\n",
       "      <th>1</th>\n",
       "      <td>Lagos</td>\n",
       "      <td>12021157</td>\n",
       "    </tr>\n",
       "    <tr>\n",
       "      <th>2</th>\n",
       "      <td>Ogun</td>\n",
       "      <td>506667</td>\n",
       "    </tr>\n",
       "    <tr>\n",
       "      <th>3</th>\n",
       "      <td>Oyo</td>\n",
       "      <td>2500000</td>\n",
       "    </tr>\n",
       "    <tr>\n",
       "      <th>4</th>\n",
       "      <td>Rivers</td>\n",
       "      <td>4000000</td>\n",
       "    </tr>\n",
       "  </tbody>\n",
       "</table>\n",
       "</div>"
      ],
      "text/plain": [
       "    State  Average_rent\n",
       "0   Abuja       7203794\n",
       "1   Lagos      12021157\n",
       "2    Ogun        506667\n",
       "3     Oyo       2500000\n",
       "4  Rivers       4000000"
      ]
     },
     "execution_count": 14,
     "metadata": {},
     "output_type": "execute_result"
    }
   ],
   "source": [
    "#Calculate the average rent costs per State\n",
    "\n",
    "state_avg_price = property_data.groupby('State')['Price'].mean().reset_index(name='Average_rent')\n",
    "state_avg_price"
   ]
  },
  {
   "cell_type": "code",
   "execution_count": 15,
   "id": "1775803b",
   "metadata": {},
   "outputs": [
    {
     "data": {
      "text/plain": [
       "City\n",
       "Agege                     3200000\n",
       "Ajah                      1740909\n",
       "Apapa                  1710000000\n",
       "Apo                       4070000\n",
       "Arepo                      900000\n",
       "Asokoro District         24142857\n",
       "Ayobo                      450000\n",
       "Bwari                     1200000\n",
       "Durumi                    2000000\n",
       "Egbe                      4500000\n",
       "Gaduwa                    3916667\n",
       "Galadimawa                4629000\n",
       "Garki                     3500000\n",
       "Gbagada                   2911111\n",
       "Guzape District          12750000\n",
       "Gwarinpa                  3272727\n",
       "Ibadan                    2500000\n",
       "Ibeju Lekki               2362500\n",
       "Idu Industrial              25000\n",
       "Ifako-Ijaiye               250000\n",
       "Ikeja                     8605146\n",
       "Ikorodu                    466667\n",
       "Ikotun                    1000000\n",
       "Ikoyi                    19276933\n",
       "Ilupeju                    600000\n",
       "Ipaja                      990000\n",
       "Isheri North              1866667\n",
       "Isolo                    25400000\n",
       "Jabi                     10525000\n",
       "Jahi                      4516129\n",
       "Katampe                   5133333\n",
       "Kaura                     4000000\n",
       "Ketu                      2080000\n",
       "Kubwa                     2000000\n",
       "Lekki                     7631712\n",
       "Life Camp                 3219231\n",
       "Lokogoma District         1000000\n",
       "Lugbe District            2225000\n",
       "Mabushi                   5600000\n",
       "Magboro                    600000\n",
       "Magodo                   11277778\n",
       "Maitama District         19237353\n",
       "Maryland                  6666667\n",
       "Obafemi Owode               20000\n",
       "Ogudu                     3050000\n",
       "Ojota                     1200000\n",
       "Oshodi                       2700\n",
       "Port Harcourt             4000000\n",
       "Shomolu                   1133333\n",
       "Surulere                  1590000\n",
       "Utako                     3100000\n",
       "Victoria Island (VI)     11661979\n",
       "Wuse                      6000000\n",
       "Wuse 2                    8504286\n",
       "Wuye                      5945833\n",
       "Yaba                      1822222\n",
       "Name: Price, dtype: float64"
      ]
     },
     "execution_count": 15,
     "metadata": {},
     "output_type": "execute_result"
    }
   ],
   "source": [
    "#Calculate the average rent costs per City\n",
    "\n",
    "city_avg_price = property_data.groupby('City')['Price'].mean()\n",
    "city_avg_price"
   ]
  },
  {
   "cell_type": "code",
   "execution_count": 16,
   "id": "713226a8",
   "metadata": {},
   "outputs": [
    {
     "data": {
      "text/plain": [
       "State   City                \n",
       "Lagos   Lekki                   455\n",
       "        Ajah                     88\n",
       "        Victoria Island (VI)     84\n",
       "        Ikoyi                    75\n",
       "        Ikeja                    36\n",
       "Abuja   Jahi                     31\n",
       "Lagos   Yaba                     27\n",
       "Abuja   Maitama District         17\n",
       "        Wuse 2                   14\n",
       "        Life Camp                13\n",
       "        Wuye                     12\n",
       "        Gwarinpa                 11\n",
       "Lagos   Ipaja                    10\n",
       "Abuja   Katampe                   9\n",
       "Lagos   Magodo                    9\n",
       "        Gbagada                   9\n",
       "        Ibeju Lekki               8\n",
       "Abuja   Asokoro District          7\n",
       "Lagos   Shomolu                   6\n",
       "        Surulere                  5\n",
       "        Ketu                      5\n",
       "Abuja   Apo                       5\n",
       "        Utako                     5\n",
       "        Mabushi                   5\n",
       "        Lugbe District            4\n",
       "        Jabi                      4\n",
       "Lagos   Ogudu                     3\n",
       "        Maryland                  3\n",
       "        Isheri North              3\n",
       "        Ikorodu                   3\n",
       "Abuja   Kubwa                     3\n",
       "        Kaura                     3\n",
       "        Bwari                     3\n",
       "        Galadimawa                3\n",
       "        Gaduwa                    3\n",
       "        Durumi                    2\n",
       "Oyo     Ibadan                    2\n",
       "Lagos   Isolo                     2\n",
       "        Apapa                     2\n",
       "Rivers  Port Harcourt             2\n",
       "Abuja   Guzape District           2\n",
       "        Garki                     1\n",
       "        Idu Industrial            1\n",
       "Lagos   Agege                     1\n",
       "Abuja   Lokogoma District         1\n",
       "Lagos   Egbe                      1\n",
       "        Ifako-Ijaiye              1\n",
       "        Ikotun                    1\n",
       "        Ilupeju                   1\n",
       "        Ojota                     1\n",
       "        Oshodi                    1\n",
       "Ogun    Arepo                     1\n",
       "        Magboro                   1\n",
       "        Obafemi Owode             1\n",
       "Abuja   Wuse                      1\n",
       "Lagos   Ayobo                     1\n",
       "Name: City, dtype: int64"
      ]
     },
     "execution_count": 16,
     "metadata": {},
     "output_type": "execute_result"
    }
   ],
   "source": [
    "#Display the number of properties for rent in each city and also display the states\n",
    "\n",
    "num_properties = property_data.groupby('State')['City'].value_counts().sort_values(ascending = False)\n",
    "num_properties"
   ]
  },
  {
   "cell_type": "code",
   "execution_count": null,
   "id": "19a930c2",
   "metadata": {},
   "outputs": [],
   "source": []
  },
  {
   "cell_type": "code",
   "execution_count": null,
   "id": "eddd9455",
   "metadata": {},
   "outputs": [],
   "source": []
  }
 ],
 "metadata": {
  "kernelspec": {
   "display_name": "Python 3 (ipykernel)",
   "language": "python",
   "name": "python3"
  },
  "language_info": {
   "codemirror_mode": {
    "name": "ipython",
    "version": 3
   },
   "file_extension": ".py",
   "mimetype": "text/x-python",
   "name": "python",
   "nbconvert_exporter": "python",
   "pygments_lexer": "ipython3",
   "version": "3.9.13"
  }
 },
 "nbformat": 4,
 "nbformat_minor": 5
}
